{
 "cells": [
  {
   "cell_type": "code",
   "execution_count": null,
   "id": "0acf27aa",
   "metadata": {},
   "outputs": [],
   "source": [
    "#\\\\Standard libraries\n",
    "from distutils.command.config import config\n",
    "import numpy as np\n",
    "import matplotlib.pyplot as plt\n",
    "import torch\n",
    "import pickle as pkl\n",
    "import yaml\n",
    "import os\n",
    "from numpy import linalg as LA\n",
    "\n",
    "import sys\n",
    "sys.path.append(os.path.dirname(os.getcwd()) + '/model')\n",
    "sys.path.append(os.path.dirname(os.getcwd()) + '/data')\n",
    "sys.path.append(os.path.dirname(os.getcwd()) + '/utils')\n",
    "sys.path.append(os.path.dirname(os.getcwd()))\n",
    "\n",
    "#\\\\Own libraries\n",
    "from classic_detectors import *\n",
    "from sample_generator_twomodulations import *\n",
    "from util import *\n",
    "from runner_langevin_two_modulations import *\n",
    "from runner_classic_methods_two_modulations import *\n",
    "from pathlib import Path"
   ]
  },
  {
   "cell_type": "markdown",
   "id": "79bbfc66",
   "metadata": {},
   "source": [
    "Settings"
   ]
  },
  {
   "cell_type": "code",
   "execution_count": null,
   "id": "d1831be9",
   "metadata": {},
   "outputs": [],
   "source": [
    "######################\n",
    "###  Load parameters of the system ###\n",
    "######################\n",
    "dirPath = os.path.dirname(os.getcwd())\n",
    "with open(dirPath + '/config.yml', 'r') as f:\n",
    "    aux = yaml.load(f,  Loader=yaml.FullLoader)\n",
    "config = dict2namespace(aux)\n",
    "\n",
    "\n",
    "######################\n",
    "###  General setup ###\n",
    "######################\n",
    "SEED = 123\n",
    "torch.manual_seed(SEED)\n",
    "useGPU = True # If true, and GPU is available, use it.\n",
    "LANGEVIN_DETECTOR = True\n",
    "CLASSICAL_DETECTORS = False\n",
    "\n",
    "#\\\\\\ Determine processing unit:\n",
    "if useGPU and torch.cuda.is_available():\n",
    "    torch.cuda.empty_cache()\n",
    "    device = 'cuda'\n",
    "else:\n",
    "    device = 'cpu'\n"
   ]
  },
  {
   "cell_type": "markdown",
   "id": "6ca7cb61",
   "metadata": {},
   "source": [
    "Load data"
   ]
  },
  {
   "cell_type": "code",
   "execution_count": null,
   "id": "7b52a67e",
   "metadata": {},
   "outputs": [],
   "source": [
    "#\\\\ IID channels\n",
    "# with open(dirPath + '/data/Hiid_5000bs_3264', 'rb') as fp:\n",
    "#     H = pkl.load(fp)\n",
    "# batch_size = H.shape[0]\n",
    "\n",
    "#\\\\ Kronecker channels\n",
    "with open(dirPath + '/data/H_5000bs_3264', 'rb') as fp:\n",
    "    H = pkl.load(fp)\n",
    "batch_size = H.shape[0]\n",
    "\n",
    "#\\\\ 3gpp case\n",
    "# mat_contents = sio.loadmat(dirPath + '/data/H_bank.mat')\n",
    "# H = mat_contents['H_bank']\n",
    "# # H = torch.tensor(H[:, :, 0:config.NT])\n",
    "# H = torch.tensor(H[:, :, random.sample(range(100), config.NT)])#Pick up NT random users from 100.\n",
    "# batch_size = H.shape[0]\n",
    "# Hr = torch.real(H)\n",
    "# Hi = torch.imag(H)\n",
    "\n",
    "# h1 = torch.cat((Hr, -1. * Hi), dim=2)\n",
    "# h2 = torch.cat((Hi, Hr), dim=2)\n",
    "# H = torch.cat((h1, h2), dim=1)\n",
    "\n",
    "#Create generator\n",
    "generator = sample_generator_twomods(batch_size, config.mod_n, config.mod_n2, config.NR)\n",
    "\n"
   ]
  },
  {
   "cell_type": "markdown",
   "id": "5aa70a96",
   "metadata": {},
   "source": [
    "Run detectors"
   ]
  },
  {
   "cell_type": "code",
   "execution_count": null,
   "id": "51f23c4a",
   "metadata": {},
   "outputs": [],
   "source": [
    "if CLASSICAL_DETECTORS == True:\n",
    "    serMMSE, serBLAST = runClassicDetectors(config, generator, batch_size, device, H = H)\n",
    "    with open(dirPath + '/results/MMSE_results', \"wb\") as output_file:\n",
    "        pkl.dump(serMMSE, output_file)\n",
    "    with open(dirPath + '/results/BLAST_results', \"wb\") as output_file:\n",
    "        pkl.dump(serBLAST, output_file)\n",
    "        \n",
    "if LANGEVIN_DETECTOR == True:\n",
    "    serLangevin = runLangevin(config, generator, batch_size, device, H = H)\n",
    "    with open(dirPath + '/results/langevin_results', \"wb\") as output_file:\n",
    "        pkl.dump(serLangevin, output_file)\n"
   ]
  },
  {
   "cell_type": "markdown",
   "id": "48ae584a",
   "metadata": {},
   "source": [
    "Plot results"
   ]
  },
  {
   "cell_type": "code",
   "execution_count": null,
   "id": "c7cd6d48",
   "metadata": {},
   "outputs": [],
   "source": [
    "plt.semilogy(SNR_dBs[NT], SER_lang32u_mod16, '*-' ,color = 'tab:blue',label= 'Langevin - 16-QAM')\n",
    "plt.semilogy(SNR_dBs[NT], SER_lang32u_mod64, 'x-',color = 'tab:blue', label= 'Langevin - 64-QAM')\n",
    "plt.semilogy(SNR_dBs[NT], SER_MMSE32u_withoutcorr_mod16 , '*-',color = 'tab:orange', label= 'MMSE - 16-QAM')\n",
    "plt.semilogy(SNR_dBs[NT], SER_MMSE32u_withoutcorr_mod64, 'x-', color = 'tab:orange', label= 'MMSE - 64-QAM')\n",
    "plt.axvline(x=22, color='k', linestyle = '--', alpha=0.2)\n",
    "\n",
    "plt.grid(True, which=\"both\")\n",
    "plt.legend(loc = 1, fontsize=15)\n",
    "plt.xlabel('SNR', fontsize=14)\n",
    "plt.ylabel('SER', fontsize=14)\n",
    "plt.tick_params(axis='both' , labelsize=14)\n",
    "# plt.savefig(dirPath + '/results/two_modulations.pdf')\n",
    "plt.show()"
   ]
  }
 ],
 "metadata": {
  "kernelspec": {
   "display_name": "Python 3 (ipykernel)",
   "language": "python",
   "name": "python3"
  },
  "language_info": {
   "codemirror_mode": {
    "name": "ipython",
    "version": 3
   },
   "file_extension": ".py",
   "mimetype": "text/x-python",
   "name": "python",
   "nbconvert_exporter": "python",
   "pygments_lexer": "ipython3",
   "version": "3.9.7"
  }
 },
 "nbformat": 4,
 "nbformat_minor": 5
}
