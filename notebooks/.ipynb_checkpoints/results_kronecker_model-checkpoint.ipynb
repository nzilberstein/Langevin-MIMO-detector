{
 "cells": [
  {
   "cell_type": "code",
   "execution_count": null,
   "id": "185b25a8",
   "metadata": {},
   "outputs": [],
   "source": [
    "#\\\\Standard libraries\n",
    "from distutils.command.config import config\n",
    "import numpy as np\n",
    "import matplotlib.pyplot as plt\n",
    "import torch\n",
    "import pickle as pkl\n",
    "import yaml\n",
    "import os\n",
    "from numpy import linalg as LA\n",
    "\n",
    "import sys\n",
    "sys.path.append(os.path.dirname(os.getcwd()) + '/model')\n",
    "sys.path.append(os.path.dirname(os.getcwd()) + '/data')\n",
    "sys.path.append(os.path.dirname(os.getcwd()) + '/utils')\n",
    "sys.path.append(os.path.dirname(os.getcwd()))\n",
    "\n",
    "\n",
    "#\\\\Own libraries\n",
    "from model.classic_detectors import *\n",
    "from data.sample_generator import *\n",
    "from utils.util import *\n",
    "from runner_langevin import *\n",
    "from runner_classic_methods import *\n",
    "from pathlib import Path"
   ]
  },
  {
   "cell_type": "markdown",
   "id": "0a189cfc",
   "metadata": {},
   "source": [
    "Settings"
   ]
  },
  {
   "cell_type": "code",
   "execution_count": null,
   "id": "89482dff",
   "metadata": {},
   "outputs": [],
   "source": [
    "######################\n",
    "###  Load parameters of the system ###\n",
    "######################\n",
    "dirPath = os.path.dirname(os.getcwd())\n",
    "with open(dirPath + '/config.yml', 'r') as f:\n",
    "    aux = yaml.load(f,  Loader=yaml.FullLoader)\n",
    "config = dict2namespace(aux)\n",
    "\n",
    "\n",
    "######################\n",
    "###  General setup ###\n",
    "######################\n",
    "SEED = 123\n",
    "torch.manual_seed(SEED)\n",
    "useGPU = True # If true, and GPU is available, use it.\n",
    "LANGEVIN_DETECTOR = True\n",
    "CLASSICAL_DETECTORS = False\n",
    "\n",
    "#\\\\\\ Determine processing unit:\n",
    "if useGPU and torch.cuda.is_available():\n",
    "    torch.cuda.empty_cache()\n",
    "    device = 'cuda'\n",
    "else:\n",
    "    device = 'cpu'\n"
   ]
  },
  {
   "cell_type": "markdown",
   "id": "d6e060c9",
   "metadata": {},
   "source": [
    "Load data"
   ]
  },
  {
   "cell_type": "code",
   "execution_count": null,
   "id": "fab0a5ac",
   "metadata": {},
   "outputs": [],
   "source": [
    "#\\\\ IID channels\n",
    "# with open(dirPath + '/data/Hiid_5000bs_3264', 'rb') as fp:\n",
    "#     H = pkl.load(fp)\n",
    "# batch_size = H.shape[0]\n",
    "\n",
    "#\\\\ Kronecker channels\n",
    "with open(dirPath + '/data/H_5000bs_3264', 'rb') as fp:\n",
    "    H = pkl.load(fp)\n",
    "batch_size = H.shape[0]\n",
    "\n",
    "#\\\\ 3gpp case\n",
    "# mat_contents = sio.loadmat(dirPath + '/data/H_bank.mat')\n",
    "# H = mat_contents['H_bank']\n",
    "# # H = torch.tensor(H[:, :, 0:config.NT])\n",
    "# H = torch.tensor(H[:, :, random.sample(range(100), config.NT)])#Pick up NT random users from 100.\n",
    "# batch_size = H.shape[0]\n",
    "# Hr = torch.real(H)\n",
    "# Hi = torch.imag(H)\n",
    "\n",
    "# h1 = torch.cat((Hr, -1. * Hi), dim=2)\n",
    "# h2 = torch.cat((Hi, Hr), dim=2)\n",
    "# H = torch.cat((h1, h2), dim=1)\n",
    "\n",
    "#Create generator\n",
    "generator = sample_generator(batch_size, config.mod_n, config.NR)\n"
   ]
  },
  {
   "cell_type": "markdown",
   "id": "426f1bdf",
   "metadata": {},
   "source": [
    "Run detectors"
   ]
  },
  {
   "cell_type": "code",
   "execution_count": null,
   "id": "789132b2",
   "metadata": {},
   "outputs": [],
   "source": [
    "if CLASSICAL_DETECTORS == True:\n",
    "    serMMSE, serBLAST = runClassicDetectors(config, generator, batch_size, device, H = H)\n",
    "    with open(dirPath + '/results/MMSE_results', \"wb\") as output_file:\n",
    "        pkl.dump(serMMSE, output_file)\n",
    "    with open(dirPath + '/results/BLAST_results', \"wb\") as output_file:\n",
    "        pkl.dump(serBLAST, output_file)\n",
    "if LANGEVIN_DETECTOR == True:\n",
    "    serLangevin = runLangevin(config, generator, batch_size, device, H = H)\n",
    "    with open(dirPath + '/results/langevin_results', \"wb\") as output_file:\n",
    "        pkl.dump(serLangevin, output_file)\n"
   ]
  },
  {
   "cell_type": "markdown",
   "id": "b0439d8f",
   "metadata": {},
   "source": [
    "Plot results"
   ]
  },
  {
   "cell_type": "code",
   "execution_count": null,
   "id": "dbf08898",
   "metadata": {},
   "outputs": [],
   "source": [
    "plt.semilogy(config.SNR_dBs[config.NT], serLangevin, label= 'Langevin', marker = '*')\n",
    "plt.semilogy(config.SNR_dBs[config.NT], serMMSE, label= 'MMSE', marker = 'x')\n",
    "plt.semilogy(config.SNR_dBs[config.NT], serBLAST , label= 'V-BLAST' , marker = 'o')\n",
    "\n",
    "plt.grid(True, which=\"both\")\n",
    "plt.legend(loc = 1, fontsize=15)\n",
    "plt.xlabel('SNR', fontsize=14)\n",
    "plt.ylabel('SER', fontsize=14)\n",
    "plt.tick_params(axis='both' , labelsize=14)\n",
    "# plt.savefig(dirPath + '/results/langevin_methods.pdf')\n",
    "plt.show()"
   ]
  }
 ],
 "metadata": {
  "kernelspec": {
   "display_name": "Python 3 (ipykernel)",
   "language": "python",
   "name": "python3"
  },
  "language_info": {
   "codemirror_mode": {
    "name": "ipython",
    "version": 3
   },
   "file_extension": ".py",
   "mimetype": "text/x-python",
   "name": "python",
   "nbconvert_exporter": "python",
   "pygments_lexer": "ipython3",
   "version": "3.9.7"
  }
 },
 "nbformat": 4,
 "nbformat_minor": 5
}
