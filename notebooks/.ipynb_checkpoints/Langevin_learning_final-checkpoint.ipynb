{
 "cells": [
  {
   "cell_type": "code",
   "execution_count": 1,
   "metadata": {},
   "outputs": [],
   "source": [
    "#\\\\Standard libraries\n",
    "import numpy as np\n",
    "import torch\n",
    "import matplotlib.pyplot as plt\n",
    "import torch.nn as nn\n",
    "import torch.nn.functional as F\n",
    "import torch.nn as nn\n",
    "from torch.nn.parameter import Parameter\n",
    "from torch.nn.modules.module import Module\n",
    "import time\n",
    "import math\n",
    "import sys\n",
    "import pickle as pkl\n",
    "import os\n",
    "import sys\n",
    "import yaml\n",
    "\n",
    "sys.path.append(os.path.dirname(os.getcwd()))\n",
    "\n",
    "\n",
    "#\\\\Own libraries\n",
    "from data.sample_generator import *\n",
    "from utils.util import *\n",
    "from model.langevin import *\n",
    "from runners.train import *\n",
    "from pathlib import Path\n"
   ]
  },
  {
   "cell_type": "code",
   "execution_count": 2,
   "metadata": {},
   "outputs": [],
   "source": [
    "######################\n",
    "###  Load parameters of the system ###\n",
    "######################\n",
    "dirPath = os.path.dirname(os.getcwd())\n",
    "with open(dirPath + '/config_training.yml', 'r') as f:\n",
    "    aux = yaml.load(f,  Loader=yaml.FullLoader)\n",
    "config = dict2namespace(aux)\n",
    "\n",
    "\n",
    "######################\n",
    "###  General setup ###\n",
    "######################\n",
    "SEED = 123\n",
    "torch.manual_seed(SEED)\n",
    "useGPU = True # If true, and GPU is available, use it.\n",
    "loadChannelInput = True\n",
    "loadModel = True\n",
    "\n",
    "#\\\\\\ Determine processing unit:\n",
    "if useGPU and torch.cuda.is_available():\n",
    "    torch.cuda.empty_cache()\n",
    "    device = 'cuda'\n",
    "else:\n",
    "    device = 'cpu'"
   ]
  },
  {
   "cell_type": "code",
   "execution_count": 3,
   "metadata": {},
   "outputs": [],
   "source": [
    "train_batch_size = 500\n",
    "test_batch_size = 500\n",
    "train_iter = 16000\n",
    "learning_rate = 1e-3\n",
    "\n",
    "device = 'cuda:0'\n",
    "generator = sample_generator(test_batch_size, config.mod_n, config.NR)\n",
    "#Create noise vector for Langevin\n",
    "sigma_gaussian = np.exp(np.linspace(np.log(config.sigma_0), np.log(config.sigma_L),config.n_sigma_gaussian))\n",
    "\n",
    "H_test, y, x, j_indices, noise_sigma = generator.give_batch_data(config.NT, snr_db_min=config.SNR_dBs[config.NT][0], snr_db_max=config.SNR_dBs[config.NT][-1], batch_size=test_batch_size, correlated_flag=config.corr_flag, rho=config.rho)        \n",
    "\n",
    "model = Langevin_unfolded(config.NT, config.NR, sigma_gaussian, generator, config.n_sample_init, config.step_size, device='cuda')\n",
    "optimizer = torch.optim.Adam(model.parameters(), lr=learning_rate)\n"
   ]
  },
  {
   "cell_type": "code",
   "execution_count": 4,
   "metadata": {},
   "outputs": [],
   "source": [
    "if loadModel:\n",
    "    model.load_state_dict(torch.load('model_learning_64x32_16qam_3lr.pth'))\n",
    "else:\n",
    "    train(H_test, model ,optimizer, generator, config, train_batch_size, test_batch_size, train_iter, device)"
   ]
  },
  {
   "cell_type": "code",
   "execution_count": 5,
   "metadata": {},
   "outputs": [
    {
     "name": "stdout",
     "output_type": "stream",
     "text": [
      "16.0\n",
      "3.320568799972534\n",
      "3.335617780685425\n",
      "3.3164775371551514\n",
      "3.3097293376922607\n",
      "3.3133628368377686\n",
      "3.3087854385375977\n",
      "3.3364689350128174\n",
      "3.3061060905456543\n",
      "3.3076324462890625\n",
      "3.3051509857177734\n",
      "3.3045361042022705\n",
      "3.322117328643799\n",
      "3.3294880390167236\n",
      "3.3134422302246094\n",
      "3.3041269779205322\n",
      "3.329834222793579\n",
      "3.303990602493286\n",
      "3.3053667545318604\n",
      "3.3054330348968506\n",
      "3.3027634620666504\n"
     ]
    },
    {
     "ename": "RuntimeError",
     "evalue": "Expected all tensors to be on the same device, but found at least two devices, cuda:0 and cpu!",
     "output_type": "error",
     "traceback": [
      "\u001b[0;31m---------------------------------------------------------------------------\u001b[0m",
      "\u001b[0;31mRuntimeError\u001b[0m                              Traceback (most recent call last)",
      "\u001b[0;32m/tmp/ipykernel_1232193/3706409707.py\u001b[0m in \u001b[0;36m<module>\u001b[0;34m\u001b[0m\n\u001b[1;32m      1\u001b[0m \u001b[0mn_traj\u001b[0m \u001b[0;34m=\u001b[0m \u001b[0;36m20\u001b[0m\u001b[0;34m\u001b[0m\u001b[0;34m\u001b[0m\u001b[0m\n\u001b[0;32m----> 2\u001b[0;31m \u001b[0mSER_uLang\u001b[0m \u001b[0;34m=\u001b[0m \u001b[0mmodel_eval\u001b[0m\u001b[0;34m(\u001b[0m\u001b[0mmodel\u001b[0m\u001b[0;34m,\u001b[0m \u001b[0mgenerator\u001b[0m\u001b[0;34m,\u001b[0m \u001b[0mconfig\u001b[0m\u001b[0;34m,\u001b[0m \u001b[0mtest_batch_size\u001b[0m\u001b[0;34m,\u001b[0m \u001b[0mn_traj\u001b[0m\u001b[0;34m,\u001b[0m \u001b[0mdevice\u001b[0m\u001b[0;34m)\u001b[0m\u001b[0;34m\u001b[0m\u001b[0;34m\u001b[0m\u001b[0m\n\u001b[0m",
      "\u001b[0;32m~/MIMO_detection_project/Langevin_repo/Langevin-MIMO-detector/utils/util.py\u001b[0m in \u001b[0;36mmodel_eval\u001b[0;34m(model, generator, config, test_batch_size, n_traj, device)\u001b[0m\n\u001b[1;32m    140\u001b[0m \u001b[0;34m\u001b[0m\u001b[0m\n\u001b[1;32m    141\u001b[0m         \u001b[0;31m# Detection\u001b[0m\u001b[0;34m\u001b[0m\u001b[0;34m\u001b[0m\u001b[0m\n\u001b[0;32m--> 142\u001b[0;31m         \u001b[0mSER_lang32u\u001b[0m\u001b[0;34m.\u001b[0m\u001b[0mappend\u001b[0m\u001b[0;34m(\u001b[0m\u001b[0;36m1\u001b[0m \u001b[0;34m-\u001b[0m \u001b[0msym_detection\u001b[0m\u001b[0;34m(\u001b[0m\u001b[0mx_hat\u001b[0m\u001b[0;34m.\u001b[0m\u001b[0mto\u001b[0m\u001b[0;34m(\u001b[0m\u001b[0mdevice\u001b[0m\u001b[0;34m=\u001b[0m\u001b[0mdevice\u001b[0m\u001b[0;34m)\u001b[0m\u001b[0;34m,\u001b[0m \u001b[0mj_indices\u001b[0m\u001b[0;34m,\u001b[0m \u001b[0mgenerator\u001b[0m\u001b[0;34m.\u001b[0m\u001b[0mreal_QAM_const\u001b[0m\u001b[0;34m,\u001b[0m \u001b[0mgenerator\u001b[0m\u001b[0;34m.\u001b[0m\u001b[0mimag_QAM_const\u001b[0m\u001b[0;34m)\u001b[0m\u001b[0;34m)\u001b[0m\u001b[0;34m\u001b[0m\u001b[0;34m\u001b[0m\u001b[0m\n\u001b[0m\u001b[1;32m    143\u001b[0m         \u001b[0mprint\u001b[0m\u001b[0;34m(\u001b[0m\u001b[0mSER_lang32u\u001b[0m\u001b[0;34m)\u001b[0m\u001b[0;34m\u001b[0m\u001b[0;34m\u001b[0m\u001b[0m\n\u001b[1;32m    144\u001b[0m \u001b[0;34m\u001b[0m\u001b[0m\n",
      "\u001b[0;32m~/MIMO_detection_project/Langevin_repo/Langevin-MIMO-detector/utils/util.py\u001b[0m in \u001b[0;36msym_detection\u001b[0;34m(x_hat, j_indices, real_QAM_const, imag_QAM_const)\u001b[0m\n\u001b[1;32m     23\u001b[0m \u001b[0;34m\u001b[0m\u001b[0m\n\u001b[1;32m     24\u001b[0m     \u001b[0;31m#Difference w.r.t. to each symbol\u001b[0m\u001b[0;34m\u001b[0m\u001b[0;34m\u001b[0m\u001b[0m\n\u001b[0;32m---> 25\u001b[0;31m     \u001b[0mx_real\u001b[0m \u001b[0;34m=\u001b[0m \u001b[0mtorch\u001b[0m\u001b[0;34m.\u001b[0m\u001b[0mpow\u001b[0m\u001b[0;34m(\u001b[0m\u001b[0mx_real\u001b[0m \u001b[0;34m-\u001b[0m \u001b[0mreal_QAM_const\u001b[0m\u001b[0;34m,\u001b[0m \u001b[0;36m2\u001b[0m\u001b[0;34m)\u001b[0m\u001b[0;34m\u001b[0m\u001b[0;34m\u001b[0m\u001b[0m\n\u001b[0m\u001b[1;32m     26\u001b[0m     \u001b[0mx_imag\u001b[0m \u001b[0;34m=\u001b[0m \u001b[0mtorch\u001b[0m\u001b[0;34m.\u001b[0m\u001b[0mpow\u001b[0m\u001b[0;34m(\u001b[0m\u001b[0mx_imag\u001b[0m \u001b[0;34m-\u001b[0m \u001b[0mimag_QAM_const\u001b[0m\u001b[0;34m,\u001b[0m \u001b[0;36m2\u001b[0m\u001b[0;34m)\u001b[0m\u001b[0;34m\u001b[0m\u001b[0;34m\u001b[0m\u001b[0m\n\u001b[1;32m     27\u001b[0m     \u001b[0mx_dist\u001b[0m \u001b[0;34m=\u001b[0m \u001b[0mx_real\u001b[0m \u001b[0;34m+\u001b[0m \u001b[0mx_imag\u001b[0m\u001b[0;34m\u001b[0m\u001b[0;34m\u001b[0m\u001b[0m\n",
      "\u001b[0;31mRuntimeError\u001b[0m: Expected all tensors to be on the same device, but found at least two devices, cuda:0 and cpu!"
     ]
    }
   ],
   "source": [
    "n_traj = 5\n",
    "SER_uLang = model_eval(model, generator, config, test_batch_size, n_traj, device)\n"
   ]
  },
  {
   "cell_type": "code",
   "execution_count": null,
   "metadata": {},
   "outputs": [],
   "source": [
    "# langtrue = [0.0686, 0.0305, 0.011, 0.003 , 0.001 ,0.00018, 6e-5]\n",
    "langtrue = [0.098, 0.062, 0.033, 0.022 , 0.01 , 0.0035, 0.0016]\n",
    "langtrue = [0.076, 0.036, 0.016, 0.0052,0.0014,0.00033]\n",
    "plt.semilogy(config.SNR_dBs[config.NT], SER_uLang, label= 'Langevin', marker = '*')\n",
    "plt.grid(True, which=\"both\")\n",
    "plt.legend(loc = 1, fontsize=15)\n",
    "plt.xlabel('SNR', fontsize=15)\n",
    "plt.ylabel('SER', fontsize=15)\n",
    "plt.tick_params(axis='both' , labelsize=15)\n",
    "plt.tight_layout()"
   ]
  },
  {
   "cell_type": "code",
   "execution_count": null,
   "metadata": {},
   "outputs": [],
   "source": [
    "config.SNR_dBs[config.NT]"
   ]
  },
  {
   "cell_type": "code",
   "execution_count": null,
   "metadata": {},
   "outputs": [],
   "source": [
    "config.SNR_dBs[config.NT].shape[0]"
   ]
  },
  {
   "cell_type": "code",
   "execution_count": null,
   "metadata": {},
   "outputs": [],
   "source": []
  }
 ],
 "metadata": {
  "kernelspec": {
   "display_name": "Python 3 (ipykernel)",
   "language": "python",
   "name": "python3"
  },
  "language_info": {
   "codemirror_mode": {
    "name": "ipython",
    "version": 3
   },
   "file_extension": ".py",
   "mimetype": "text/x-python",
   "name": "python",
   "nbconvert_exporter": "python",
   "pygments_lexer": "ipython3",
   "version": "3.9.7"
  }
 },
 "nbformat": 4,
 "nbformat_minor": 4
}
