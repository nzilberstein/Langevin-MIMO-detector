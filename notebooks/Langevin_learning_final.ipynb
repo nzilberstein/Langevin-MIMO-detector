{
 "cells": [
  {
   "cell_type": "code",
   "execution_count": null,
   "metadata": {},
   "outputs": [],
   "source": [
    "#\\\\Standard libraries\n",
    "import numpy as np\n",
    "import torch\n",
    "import matplotlib.pyplot as plt\n",
    "import torch.nn as nn\n",
    "import torch.nn.functional as F\n",
    "import torch.nn as nn\n",
    "from torch.nn.parameter import Parameter\n",
    "from torch.nn.modules.module import Module\n",
    "import time\n",
    "import math\n",
    "import sys\n",
    "import pickle as pkl\n",
    "import os\n",
    "import sys\n",
    "import yaml\n",
    "\n",
    "sys.path.append(os.path.dirname(os.getcwd()))\n",
    "\n",
    "\n",
    "#\\\\Own libraries\n",
    "from data.sample_generator import *\n",
    "from utils.util import *\n",
    "from model.langevin import *\n",
    "from runners.train import *\n",
    "from pathlib import Path\n"
   ]
  },
  {
   "cell_type": "code",
   "execution_count": null,
   "metadata": {},
   "outputs": [],
   "source": [
    "######################\n",
    "###  Load parameters of the system ###\n",
    "######################\n",
    "dirPath = os.path.dirname(os.getcwd())\n",
    "with open(dirPath + '/config_training.yml', 'r') as f:\n",
    "    aux = yaml.load(f,  Loader=yaml.FullLoader)\n",
    "config = dict2namespace(aux)\n",
    "\n",
    "\n",
    "######################\n",
    "###  General setup ###\n",
    "######################\n",
    "SEED = 123\n",
    "torch.manual_seed(SEED)\n",
    "useGPU = True # If true, and GPU is available, use it.\n",
    "loadChannelInput = True\n",
    "loadModel = False\n",
    "\n",
    "#\\\\\\ Determine processing unit:\n",
    "if useGPU and torch.cuda.is_available():\n",
    "    torch.cuda.empty_cache()\n",
    "    device = 'cuda'\n",
    "else:\n",
    "    device = 'cpu'"
   ]
  },
  {
   "cell_type": "code",
   "execution_count": null,
   "metadata": {},
   "outputs": [],
   "source": [
    "train_batch_size = 500\n",
    "test_batch_size = 500\n",
    "train_iter = 16000\n",
    "learning_rate = 1e-3\n",
    "\n",
    "device = 'cuda:0'\n",
    "generator = sample_generator(train_batch_size, config.mod_n, config.NR)\n",
    "#Create noise vector for Langevin\n",
    "sigma_gaussian = np.exp(np.linspace(np.log(config.sigma_0), np.log(config.sigma_L),config.n_sigma_gaussian))\n",
    "\n",
    "H_test, y, x, j_indices, noise_sigma = generator.give_batch_data(config.NT, snr_db_min=config.SNR_dBs[config.NT][0], snr_db_max=config.SNR_dBs[config.NT][-1], batch_size=test_batch_size, correlated_flag=config.corr_flag, rho=config.rho)        \n",
    "\n",
    "model = Langevin_unfolded(config.NT, config.NR, sigma_gaussian, generator, config.n_sample_init, config.step_size, device='cuda')\n",
    "optimizer = torch.optim.Adam(model.parameters(), lr=learning_rate)\n"
   ]
  },
  {
   "cell_type": "code",
   "execution_count": null,
   "metadata": {},
   "outputs": [],
   "source": [
    "if loadModel:\n",
    "    model.load_state_dict(torch.load('model_learning_64x32_16qam_3lr.pth'))\n",
    "else:\n",
    "    train(H_test, model ,optimizer, generator, config, train_batch_size, test_batch_size, train_iter, device)"
   ]
  },
  {
   "cell_type": "code",
   "execution_count": null,
   "metadata": {},
   "outputs": [],
   "source": [
    "n_traj = 20\n",
    "SER_uLang = model_eval(model, generator, config, test_batch_size, n_traj, device)\n"
   ]
  },
  {
   "cell_type": "code",
   "execution_count": null,
   "metadata": {},
   "outputs": [],
   "source": [
    "# langtrue = [0.0686, 0.0305, 0.011, 0.003 , 0.001 ,0.00018, 6e-5]\n",
    "langtrue = [0.098, 0.062, 0.033, 0.022 , 0.01 , 0.0035, 0.0016]\n",
    "langtrue = [0.076, 0.036, 0.016, 0.0052,0.0014,0.00033]\n",
    "plt.semilogy(config.SNR_dBs[config.NT], SER_uLang, label= 'Langevin', marker = '*')\n",
    "plt.grid(True, which=\"both\")\n",
    "plt.legend(loc = 1, fontsize=15)\n",
    "plt.xlabel('SNR', fontsize=15)\n",
    "plt.ylabel('SER', fontsize=15)\n",
    "plt.tick_params(axis='both' , labelsize=15)\n",
    "plt.tight_layout()"
   ]
  },
  {
   "cell_type": "code",
   "execution_count": null,
   "metadata": {},
   "outputs": [],
   "source": []
  }
 ],
 "metadata": {
  "kernelspec": {
   "display_name": "Python 3 (ipykernel)",
   "language": "python",
   "name": "python3"
  },
  "language_info": {
   "codemirror_mode": {
    "name": "ipython",
    "version": 3
   },
   "file_extension": ".py",
   "mimetype": "text/x-python",
   "name": "python",
   "nbconvert_exporter": "python",
   "pygments_lexer": "ipython3",
   "version": "3.9.7"
  }
 },
 "nbformat": 4,
 "nbformat_minor": 4
}
