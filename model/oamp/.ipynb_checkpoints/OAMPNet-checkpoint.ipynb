{
 "cells": [
  {
   "cell_type": "code",
   "execution_count": 3,
   "id": "f7dcc99c",
   "metadata": {},
   "outputs": [],
   "source": [
    "#!/usr/bin/env python\n",
    "import torch\n",
    "import torch.nn as nn\n",
    "import torch.nn.functional as F\n",
    "import numpy as np\n",
    "import time as tm\n",
    "import math\n",
    "import sys\n",
    "import pickle as pkl\n",
    "import matplotlib.pyplot as plt\n",
    "\n",
    "from oampnet import oampnet\n",
    "from sample_generator import sample_generator\n",
    "# from matrix_models import * \n",
    "from utils import *\n",
    "\n",
    "torch.manual_seed(123)\n",
    "np.random.seed(123)\n",
    "\n",
    "#Parameters of the system\n",
    "NT = 3\n",
    "NR = 64\n",
    "mod_n = 16\n",
    "\n",
    "\n",
    "#Parametes of the model\n",
    "num_layers = 10\n",
    "train_iter = 10000\n",
    "train_batch_size = 1000\n",
    "test_batch_size = 5000\n",
    "learning_rate = 1e-3\n",
    "\n",
    "#Flags and parameters for signal generation and testing\n",
    "QR = True\n",
    "test_set_flag = True\n",
    "corr_flag = True\n",
    "rho_low = 0.55\n",
    "rho_high = 0.75\n",
    "\n",
    "#Load test set and covariance matrix\n",
    "# with open ('/home/nicoz/MMNet-tests/learning_based/Torch/Tests_sets/Test_set_6T_24R', 'rb') as fp:\n",
    "#     R_test, Cu = pkl.load(fp)\n",
    "    \n",
    "    \n",
    "snrdb_list = {16:np.arange(11.0, 22.0), 32:np.arange(16.0, 27.0)}\n",
    "\n",
    "def train(model, optimizer, generator, device='cpu'):\n",
    "\n",
    "    criterion = nn.MSELoss().to(device=device)\n",
    "    model.train()\n",
    "    real_QAM_const = generator.real_QAM_const.to(device=device)\n",
    "    imag_QAM_const = generator.imag_QAM_const.to(device=device)\n",
    "    \n",
    "    for i in range(train_iter):\n",
    "#         rho = np.random.uniform(rho_low, rho_high)\n",
    "        rho = 0.6\n",
    "        #\n",
    "#         if (i%100==0):\n",
    "#             Q,R,H = createQR(Cu, train_batch_size)\n",
    "#             H = torch.tensor(R).to(device=device)\n",
    "        #\n",
    "        \n",
    "#         y, x, j_indices, noise_sigma = generator.give_batch_data(H, NT, snr_db_min=snrdb_list[NT][0], snr_db_max=snrdb_list[NT][-1], batch_size=train_batch_size)\n",
    "        H, y, x, j_indices, noise_sigma = generator.give_batch_data(NT, snr_db_min=snrdb_list[NT][0], snr_db_max=snrdb_list[NT][-1], batch_size=train_batch_size, correlated_flag=corr_flag, rho=rho)\n",
    "#         H, y, x, j_indices, noise_sigma = generator.give_batch_data(NT, snr_db_min=snrdb_list[NT][0], snr_db_max=snrdb_list[NT][-1], batch_size=train_batch_size, QR = QR, Cu = Cu)\n",
    "\n",
    "        H = H.to(device=device)\n",
    "        y = y.to(device=device)\n",
    "        noise_sigma = noise_sigma.to(device=device)\n",
    "\n",
    "        list_batch_x_predicted = model.forward(H, y, noise_sigma)\n",
    "\n",
    "        x = x.to(device=device)\n",
    "        j_indices = j_indices.to(device=device)\n",
    "\n",
    "        loss, SER = loss_fn(x, list_batch_x_predicted, j_indices, real_QAM_const, imag_QAM_const, criterion)\n",
    "        optimizer.zero_grad()\n",
    "        loss.backward()\n",
    "        optimizer.step()\n",
    "\n",
    "        del H, y, x, j_indices, noise_sigma, list_batch_x_predicted\n",
    "\n",
    "        if (i%1000==0):\n",
    "            model.eval()\n",
    "            H, y, x, j_indices, noise_sigma = generator.give_batch_data(NT, snr_db_min=snrdb_list[NT][-1], snr_db_max=snrdb_list[NT][-1], batch_size=test_batch_size, correlated_flag=corr_flag, rho=rho)\n",
    "            H = H.to(device=device).double()\n",
    "            y = y.to(device=device).double()\n",
    "            noise_sigma = noise_sigma.to(device=device).double()\n",
    "\n",
    "            with torch.no_grad():\n",
    "                list_batch_x_predicted = model.forward(H, y, noise_sigma)\n",
    "                x = x.to(device=device)\n",
    "                j_indices = j_indices.to(device=device)\n",
    "                loss, SER = loss_fn(x, list_batch_x_predicted, j_indices, real_QAM_const, imag_QAM_const, criterion)\n",
    "                print('iteration number : ', i, 'SER : ', 1 - SER)\n",
    "            del H, y, x, j_indices, noise_sigma, list_batch_x_predicted\n",
    "\n",
    "            model.train()\n",
    "#             if (save_interim_model):\n",
    "#                 torch.save(model.state_dict(), model_filename)\n",
    "#                 print('********Model Saved******* at directory : ', model_filename)"
   ]
  },
  {
   "cell_type": "code",
   "execution_count": 4,
   "id": "9c12aae3",
   "metadata": {},
   "outputs": [
    {
     "name": "stdout",
     "output_type": "stream",
     "text": [
      "iteration number :  0 SER :  0.0\n"
     ]
    },
    {
     "ename": "KeyboardInterrupt",
     "evalue": "",
     "output_type": "error",
     "traceback": [
      "\u001b[0;31m---------------------------------------------------------------------------\u001b[0m",
      "\u001b[0;31mKeyboardInterrupt\u001b[0m                         Traceback (most recent call last)",
      "\u001b[0;32m/tmp/ipykernel_2770001/2706428547.py\u001b[0m in \u001b[0;36m<module>\u001b[0;34m\u001b[0m\n\u001b[1;32m      6\u001b[0m \u001b[0moptimizer\u001b[0m \u001b[0;34m=\u001b[0m \u001b[0mtorch\u001b[0m\u001b[0;34m.\u001b[0m\u001b[0moptim\u001b[0m\u001b[0;34m.\u001b[0m\u001b[0mAdam\u001b[0m\u001b[0;34m(\u001b[0m\u001b[0mmodel\u001b[0m\u001b[0;34m.\u001b[0m\u001b[0mparameters\u001b[0m\u001b[0;34m(\u001b[0m\u001b[0;34m)\u001b[0m\u001b[0;34m,\u001b[0m \u001b[0mlr\u001b[0m\u001b[0;34m=\u001b[0m\u001b[0mlearning_rate\u001b[0m\u001b[0;34m)\u001b[0m\u001b[0;34m\u001b[0m\u001b[0;34m\u001b[0m\u001b[0m\n\u001b[1;32m      7\u001b[0m \u001b[0;31m# Cu = createCu()\u001b[0m\u001b[0;34m\u001b[0m\u001b[0;34m\u001b[0m\u001b[0;34m\u001b[0m\u001b[0m\n\u001b[0;32m----> 8\u001b[0;31m \u001b[0mtrain\u001b[0m\u001b[0;34m(\u001b[0m\u001b[0mmodel\u001b[0m\u001b[0;34m,\u001b[0m \u001b[0moptimizer\u001b[0m\u001b[0;34m,\u001b[0m \u001b[0mgenerator\u001b[0m\u001b[0;34m,\u001b[0m \u001b[0mdevice\u001b[0m\u001b[0;34m)\u001b[0m\u001b[0;34m\u001b[0m\u001b[0;34m\u001b[0m\u001b[0m\n\u001b[0m\u001b[1;32m      9\u001b[0m \u001b[0mprint\u001b[0m\u001b[0;34m(\u001b[0m\u001b[0;34m'******************************** Now Testing **********************************************'\u001b[0m\u001b[0;34m)\u001b[0m\u001b[0;34m\u001b[0m\u001b[0;34m\u001b[0m\u001b[0m\n",
      "\u001b[0;32m/tmp/ipykernel_2770001/524261980.py\u001b[0m in \u001b[0;36mtrain\u001b[0;34m(model, optimizer, generator, device)\u001b[0m\n\u001b[1;32m     62\u001b[0m \u001b[0;34m\u001b[0m\u001b[0m\n\u001b[1;32m     63\u001b[0m \u001b[0;31m#         y, x, j_indices, noise_sigma = generator.give_batch_data(H, NT, snr_db_min=snrdb_list[NT][0], snr_db_max=snrdb_list[NT][-1], batch_size=train_batch_size)\u001b[0m\u001b[0;34m\u001b[0m\u001b[0;34m\u001b[0m\u001b[0;34m\u001b[0m\u001b[0m\n\u001b[0;32m---> 64\u001b[0;31m         \u001b[0mH\u001b[0m\u001b[0;34m,\u001b[0m \u001b[0my\u001b[0m\u001b[0;34m,\u001b[0m \u001b[0mx\u001b[0m\u001b[0;34m,\u001b[0m \u001b[0mj_indices\u001b[0m\u001b[0;34m,\u001b[0m \u001b[0mnoise_sigma\u001b[0m \u001b[0;34m=\u001b[0m \u001b[0mgenerator\u001b[0m\u001b[0;34m.\u001b[0m\u001b[0mgive_batch_data\u001b[0m\u001b[0;34m(\u001b[0m\u001b[0mNT\u001b[0m\u001b[0;34m,\u001b[0m \u001b[0msnr_db_min\u001b[0m\u001b[0;34m=\u001b[0m\u001b[0msnrdb_list\u001b[0m\u001b[0;34m[\u001b[0m\u001b[0mNT\u001b[0m\u001b[0;34m]\u001b[0m\u001b[0;34m[\u001b[0m\u001b[0;36m0\u001b[0m\u001b[0;34m]\u001b[0m\u001b[0;34m,\u001b[0m \u001b[0msnr_db_max\u001b[0m\u001b[0;34m=\u001b[0m\u001b[0msnrdb_list\u001b[0m\u001b[0;34m[\u001b[0m\u001b[0mNT\u001b[0m\u001b[0;34m]\u001b[0m\u001b[0;34m[\u001b[0m\u001b[0;34m-\u001b[0m\u001b[0;36m1\u001b[0m\u001b[0;34m]\u001b[0m\u001b[0;34m,\u001b[0m \u001b[0mbatch_size\u001b[0m\u001b[0;34m=\u001b[0m\u001b[0mtrain_batch_size\u001b[0m\u001b[0;34m,\u001b[0m \u001b[0mcorrelated_flag\u001b[0m\u001b[0;34m=\u001b[0m\u001b[0mcorr_flag\u001b[0m\u001b[0;34m,\u001b[0m \u001b[0mrho\u001b[0m\u001b[0;34m=\u001b[0m\u001b[0mrho\u001b[0m\u001b[0;34m)\u001b[0m\u001b[0;34m\u001b[0m\u001b[0;34m\u001b[0m\u001b[0m\n\u001b[0m\u001b[1;32m     65\u001b[0m \u001b[0;31m#         H, y, x, j_indices, noise_sigma = generator.give_batch_data(NT, snr_db_min=snrdb_list[NT][0], snr_db_max=snrdb_list[NT][-1], batch_size=train_batch_size, QR = QR, Cu = Cu)\u001b[0m\u001b[0;34m\u001b[0m\u001b[0;34m\u001b[0m\u001b[0;34m\u001b[0m\u001b[0m\n\u001b[1;32m     66\u001b[0m \u001b[0;34m\u001b[0m\u001b[0m\n",
      "\u001b[0;32m~/MIMO_detection_project/OAMPNet/sample_generator.py\u001b[0m in \u001b[0;36mgive_batch_data\u001b[0;34m(self, NT, snr_db_min, snr_db_max, batch_size, correlated_flag, rho, batch_corr, rho_low, rho_high, QR, Cu)\u001b[0m\n\u001b[1;32m    242\u001b[0m         \u001b[0mjoint_indices\u001b[0m \u001b[0;34m=\u001b[0m \u001b[0mself\u001b[0m\u001b[0;34m.\u001b[0m\u001b[0mjoint_indices\u001b[0m\u001b[0;34m(\u001b[0m\u001b[0mindices\u001b[0m\u001b[0;34m)\u001b[0m\u001b[0;34m\u001b[0m\u001b[0;34m\u001b[0m\u001b[0m\n\u001b[1;32m    243\u001b[0m         \u001b[0mx\u001b[0m \u001b[0;34m=\u001b[0m \u001b[0mself\u001b[0m\u001b[0;34m.\u001b[0m\u001b[0mmodulate\u001b[0m\u001b[0;34m(\u001b[0m\u001b[0mindices\u001b[0m\u001b[0;34m)\u001b[0m\u001b[0;34m\u001b[0m\u001b[0;34m\u001b[0m\u001b[0m\n\u001b[0;32m--> 244\u001b[0;31m         \u001b[0my\u001b[0m\u001b[0;34m,\u001b[0m \u001b[0mH\u001b[0m\u001b[0;34m,\u001b[0m \u001b[0mcomplexnoise_sigma\u001b[0m\u001b[0;34m,\u001b[0m \u001b[0m_\u001b[0m \u001b[0;34m=\u001b[0m \u001b[0mself\u001b[0m\u001b[0;34m.\u001b[0m\u001b[0mchannel\u001b[0m\u001b[0;34m(\u001b[0m\u001b[0mx\u001b[0m\u001b[0;34m,\u001b[0m \u001b[0msnr_db_min\u001b[0m\u001b[0;34m,\u001b[0m \u001b[0msnr_db_max\u001b[0m\u001b[0;34m,\u001b[0m \u001b[0mNT\u001b[0m\u001b[0;34m,\u001b[0m \u001b[0mbatch_size\u001b[0m\u001b[0;34m,\u001b[0m \u001b[0mcorrelated_flag\u001b[0m\u001b[0;34m,\u001b[0m \u001b[0mrho\u001b[0m\u001b[0;34m,\u001b[0m \u001b[0mbatch_corr\u001b[0m\u001b[0;34m,\u001b[0m \u001b[0mrho_low\u001b[0m\u001b[0;34m,\u001b[0m \u001b[0mrho_high\u001b[0m\u001b[0;34m,\u001b[0m \u001b[0mQR\u001b[0m\u001b[0;34m,\u001b[0m \u001b[0mCu\u001b[0m\u001b[0;34m)\u001b[0m\u001b[0;34m\u001b[0m\u001b[0;34m\u001b[0m\u001b[0m\n\u001b[0m\u001b[1;32m    245\u001b[0m         \u001b[0;32mreturn\u001b[0m \u001b[0mH\u001b[0m\u001b[0;34m,\u001b[0m \u001b[0my\u001b[0m\u001b[0;34m,\u001b[0m \u001b[0mx\u001b[0m\u001b[0;34m,\u001b[0m \u001b[0mjoint_indices\u001b[0m\u001b[0;34m,\u001b[0m \u001b[0mcomplexnoise_sigma\u001b[0m\u001b[0;34m.\u001b[0m\u001b[0msqueeze\u001b[0m\u001b[0;34m(\u001b[0m\u001b[0;34m)\u001b[0m\u001b[0;34m\u001b[0m\u001b[0;34m\u001b[0m\u001b[0m\n\u001b[1;32m    246\u001b[0m \u001b[0;34m\u001b[0m\u001b[0m\n",
      "\u001b[0;32m~/MIMO_detection_project/OAMPNet/sample_generator.py\u001b[0m in \u001b[0;36mchannel\u001b[0;34m(self, x, snr_db_min, snr_db_max, NT, batch_size, correlated_flag, rho, batch_corr, rho_low, rho_high, QR, Cu)\u001b[0m\n\u001b[1;32m    125\u001b[0m                     \u001b[0mHi\u001b[0m \u001b[0;34m=\u001b[0m \u001b[0mtorch\u001b[0m\u001b[0;34m.\u001b[0m\u001b[0meinsum\u001b[0m\u001b[0;34m(\u001b[0m\u001b[0;34m(\u001b[0m\u001b[0;34m'bij,bjl,blk->bik'\u001b[0m\u001b[0;34m)\u001b[0m\u001b[0;34m,\u001b[0m \u001b[0;34m(\u001b[0m\u001b[0mR1\u001b[0m\u001b[0;34m,\u001b[0m \u001b[0mHi\u001b[0m\u001b[0;34m,\u001b[0m \u001b[0mR2\u001b[0m\u001b[0;34m)\u001b[0m\u001b[0;34m)\u001b[0m\u001b[0;34m\u001b[0m\u001b[0;34m\u001b[0m\u001b[0m\n\u001b[1;32m    126\u001b[0m                 \u001b[0;32melse\u001b[0m\u001b[0;34m:\u001b[0m\u001b[0;34m\u001b[0m\u001b[0;34m\u001b[0m\u001b[0m\n\u001b[0;32m--> 127\u001b[0;31m                     \u001b[0mR1\u001b[0m\u001b[0;34m,\u001b[0m \u001b[0mR2\u001b[0m \u001b[0;34m=\u001b[0m \u001b[0mself\u001b[0m\u001b[0;34m.\u001b[0m\u001b[0mexp_correlation\u001b[0m\u001b[0;34m(\u001b[0m\u001b[0mrho\u001b[0m\u001b[0;34m,\u001b[0m \u001b[0mbatch_size\u001b[0m\u001b[0;34m,\u001b[0m \u001b[0mNT\u001b[0m\u001b[0;34m)\u001b[0m\u001b[0;34m\u001b[0m\u001b[0;34m\u001b[0m\u001b[0m\n\u001b[0m\u001b[1;32m    128\u001b[0m                     \u001b[0mHr\u001b[0m \u001b[0;34m=\u001b[0m \u001b[0mtorch\u001b[0m\u001b[0;34m.\u001b[0m\u001b[0meinsum\u001b[0m\u001b[0;34m(\u001b[0m\u001b[0;34m(\u001b[0m\u001b[0;34m'bij,bjl,blk->bik'\u001b[0m\u001b[0;34m)\u001b[0m\u001b[0;34m,\u001b[0m \u001b[0;34m(\u001b[0m\u001b[0mR1\u001b[0m\u001b[0;34m,\u001b[0m \u001b[0mHr\u001b[0m\u001b[0;34m,\u001b[0m \u001b[0mR2\u001b[0m\u001b[0;34m)\u001b[0m\u001b[0;34m)\u001b[0m\u001b[0;34m\u001b[0m\u001b[0;34m\u001b[0m\u001b[0m\n\u001b[1;32m    129\u001b[0m                     \u001b[0mHi\u001b[0m \u001b[0;34m=\u001b[0m \u001b[0mtorch\u001b[0m\u001b[0;34m.\u001b[0m\u001b[0meinsum\u001b[0m\u001b[0;34m(\u001b[0m\u001b[0;34m(\u001b[0m\u001b[0;34m'bij,bjl,blk->bik'\u001b[0m\u001b[0;34m)\u001b[0m\u001b[0;34m,\u001b[0m \u001b[0;34m(\u001b[0m\u001b[0mR1\u001b[0m\u001b[0;34m,\u001b[0m \u001b[0mHi\u001b[0m\u001b[0;34m,\u001b[0m \u001b[0mR2\u001b[0m\u001b[0;34m)\u001b[0m\u001b[0;34m)\u001b[0m\u001b[0;34m\u001b[0m\u001b[0;34m\u001b[0m\u001b[0m\n",
      "\u001b[0;32m~/MIMO_detection_project/OAMPNet/sample_generator.py\u001b[0m in \u001b[0;36mexp_correlation\u001b[0;34m(self, rho, batch_size, NT)\u001b[0m\n\u001b[1;32m     98\u001b[0m         \u001b[0mRr\u001b[0m \u001b[0;34m=\u001b[0m \u001b[0mrho\u001b[0m \u001b[0;34m**\u001b[0m \u001b[0;34m(\u001b[0m\u001b[0mnp\u001b[0m\u001b[0;34m.\u001b[0m\u001b[0mabs\u001b[0m\u001b[0;34m(\u001b[0m\u001b[0mranger\u001b[0m \u001b[0;34m-\u001b[0m \u001b[0mranger\u001b[0m\u001b[0;34m.\u001b[0m\u001b[0mT\u001b[0m\u001b[0;34m)\u001b[0m\u001b[0;34m)\u001b[0m\u001b[0;34m\u001b[0m\u001b[0;34m\u001b[0m\u001b[0m\n\u001b[1;32m     99\u001b[0m         \u001b[0mRt\u001b[0m \u001b[0;34m=\u001b[0m \u001b[0mrho\u001b[0m \u001b[0;34m**\u001b[0m \u001b[0;34m(\u001b[0m\u001b[0mnp\u001b[0m\u001b[0;34m.\u001b[0m\u001b[0mabs\u001b[0m\u001b[0;34m(\u001b[0m\u001b[0mranget\u001b[0m \u001b[0;34m-\u001b[0m \u001b[0mranget\u001b[0m\u001b[0;34m.\u001b[0m\u001b[0mT\u001b[0m\u001b[0;34m)\u001b[0m\u001b[0;34m)\u001b[0m\u001b[0;34m\u001b[0m\u001b[0;34m\u001b[0m\u001b[0m\n\u001b[0;32m--> 100\u001b[0;31m         \u001b[0mR1\u001b[0m \u001b[0;34m=\u001b[0m \u001b[0mLA\u001b[0m\u001b[0;34m.\u001b[0m\u001b[0msqrtm\u001b[0m\u001b[0;34m(\u001b[0m\u001b[0mRr\u001b[0m\u001b[0;34m)\u001b[0m\u001b[0;34m\u001b[0m\u001b[0;34m\u001b[0m\u001b[0m\n\u001b[0m\u001b[1;32m    101\u001b[0m         \u001b[0mR2\u001b[0m \u001b[0;34m=\u001b[0m \u001b[0mLA\u001b[0m\u001b[0;34m.\u001b[0m\u001b[0msqrtm\u001b[0m\u001b[0;34m(\u001b[0m\u001b[0mRt\u001b[0m\u001b[0;34m)\u001b[0m\u001b[0;34m\u001b[0m\u001b[0;34m\u001b[0m\u001b[0m\n\u001b[1;32m    102\u001b[0m         \u001b[0mR1\u001b[0m \u001b[0;34m=\u001b[0m \u001b[0mtorch\u001b[0m\u001b[0;34m.\u001b[0m\u001b[0mfrom_numpy\u001b[0m\u001b[0;34m(\u001b[0m\u001b[0mR1\u001b[0m\u001b[0;34m)\u001b[0m\u001b[0;34m.\u001b[0m\u001b[0mto\u001b[0m\u001b[0;34m(\u001b[0m\u001b[0mdtype\u001b[0m\u001b[0;34m=\u001b[0m\u001b[0mtorch\u001b[0m\u001b[0;34m.\u001b[0m\u001b[0mfloat32\u001b[0m\u001b[0;34m)\u001b[0m\u001b[0;34m\u001b[0m\u001b[0;34m\u001b[0m\u001b[0m\n",
      "\u001b[0;32m~/anaconda3/envs/torchenv/lib/python3.8/site-packages/scipy/linalg/_matfuncs_sqrtm.py\u001b[0m in \u001b[0;36msqrtm\u001b[0;34m(A, disp, blocksize)\u001b[0m\n\u001b[1;32m    163\u001b[0m     \u001b[0mkeep_it_real\u001b[0m \u001b[0;34m=\u001b[0m \u001b[0mnp\u001b[0m\u001b[0;34m.\u001b[0m\u001b[0misrealobj\u001b[0m\u001b[0;34m(\u001b[0m\u001b[0mA\u001b[0m\u001b[0;34m)\u001b[0m\u001b[0;34m\u001b[0m\u001b[0;34m\u001b[0m\u001b[0m\n\u001b[1;32m    164\u001b[0m     \u001b[0;32mif\u001b[0m \u001b[0mkeep_it_real\u001b[0m\u001b[0;34m:\u001b[0m\u001b[0;34m\u001b[0m\u001b[0;34m\u001b[0m\u001b[0m\n\u001b[0;32m--> 165\u001b[0;31m         \u001b[0mT\u001b[0m\u001b[0;34m,\u001b[0m \u001b[0mZ\u001b[0m \u001b[0;34m=\u001b[0m \u001b[0mschur\u001b[0m\u001b[0;34m(\u001b[0m\u001b[0mA\u001b[0m\u001b[0;34m)\u001b[0m\u001b[0;34m\u001b[0m\u001b[0;34m\u001b[0m\u001b[0m\n\u001b[0m\u001b[1;32m    166\u001b[0m         \u001b[0;32mif\u001b[0m \u001b[0;32mnot\u001b[0m \u001b[0mnp\u001b[0m\u001b[0;34m.\u001b[0m\u001b[0marray_equal\u001b[0m\u001b[0;34m(\u001b[0m\u001b[0mT\u001b[0m\u001b[0;34m,\u001b[0m \u001b[0mnp\u001b[0m\u001b[0;34m.\u001b[0m\u001b[0mtriu\u001b[0m\u001b[0;34m(\u001b[0m\u001b[0mT\u001b[0m\u001b[0;34m)\u001b[0m\u001b[0;34m)\u001b[0m\u001b[0;34m:\u001b[0m\u001b[0;34m\u001b[0m\u001b[0;34m\u001b[0m\u001b[0m\n\u001b[1;32m    167\u001b[0m             \u001b[0mT\u001b[0m\u001b[0;34m,\u001b[0m \u001b[0mZ\u001b[0m \u001b[0;34m=\u001b[0m \u001b[0mrsf2csf\u001b[0m\u001b[0;34m(\u001b[0m\u001b[0mT\u001b[0m\u001b[0;34m,\u001b[0m \u001b[0mZ\u001b[0m\u001b[0;34m)\u001b[0m\u001b[0;34m\u001b[0m\u001b[0;34m\u001b[0m\u001b[0m\n",
      "\u001b[0;32m~/anaconda3/envs/torchenv/lib/python3.8/site-packages/scipy/linalg/decomp_schur.py\u001b[0m in \u001b[0;36mschur\u001b[0;34m(a, output, lwork, overwrite_a, sort, check_finite)\u001b[0m\n\u001b[1;32m    156\u001b[0m                              \"callable, or one of ('lhp','rhp','iuc','ouc')\")\n\u001b[1;32m    157\u001b[0m \u001b[0;34m\u001b[0m\u001b[0m\n\u001b[0;32m--> 158\u001b[0;31m     result = gees(sfunction, a1, lwork=lwork, overwrite_a=overwrite_a,\n\u001b[0m\u001b[1;32m    159\u001b[0m                   sort_t=sort_t)\n\u001b[1;32m    160\u001b[0m \u001b[0;34m\u001b[0m\u001b[0m\n",
      "\u001b[0;31mKeyboardInterrupt\u001b[0m: "
     ]
    }
   ],
   "source": [
    "device = 'cuda'\n",
    "generator = sample_generator(train_batch_size, mod_n, NR)\n",
    "model = oampnet(num_layers, generator.constellation, generator.real_QAM_const, generator.imag_QAM_const, device=device)\n",
    "model = model.to(device=device)\n",
    "\n",
    "optimizer = torch.optim.Adam(model.parameters(), lr=learning_rate)\n",
    "# Cu = createCu()\n",
    "train(model, optimizer, generator, device)\n",
    "print('******************************** Now Testing **********************************************')"
   ]
  },
  {
   "cell_type": "code",
   "execution_count": 20,
   "id": "5575c47a",
   "metadata": {},
   "outputs": [
    {
     "name": "stdout",
     "output_type": "stream",
     "text": [
      "**************************Starting testing*******************************************\n"
     ]
    },
    {
     "data": {
      "text/plain": [
       "[(5.0, 0.053140000000000076),\n",
       " (6.0, 0.03411399999999842),\n",
       " (7.0, 0.02009999999999812),\n",
       " (8.0, 0.011774000000000395),\n",
       " (9.0, 0.006613999999997899),\n",
       " (10.0, 0.003635999999997641),\n",
       " (11.0, 0.0017639999999968792),\n",
       " (12.0, 0.0008819999999969408),\n",
       " (13.0, 0.0004919999999976055),\n",
       " (14.0, 0.00022599999999872722)]"
      ]
     },
     "execution_count": 20,
     "metadata": {},
     "output_type": "execute_result"
    }
   ],
   "source": [
    "batch_size = 100\n",
    "time_seq = 5\n",
    "H0 = torch.empty((batch_size, 2 * NR, 2 * NT))\n",
    "H1 = torch.empty((batch_size, 2 * NR, 2 * NT))\n",
    "H2 = torch.empty((batch_size, 2 * NR, 2 * NT))\n",
    "H3 = torch.empty((batch_size, 2 * NR, 2 * NT))\n",
    "H4 = torch.empty((batch_size, 2 * NR, 2 * NT))\n",
    "\n",
    "with open('/home/nicolas/MIMO_detection_project/HyperMIMO/rho_model_kron/H_test', 'rb') as fp:\n",
    "    H = pkl.load(fp)\n",
    "for ii in range(0, batch_size):\n",
    "    H0[ii] = H[0 + ii * time_seq:1 + ii*time_seq,:,:]\n",
    "    H1[ii] = H[1 + ii * time_seq:2 + ii*time_seq,:,:]\n",
    "    H2[ii] = H[2 + ii * time_seq:3 + ii*time_seq,:,:]\n",
    "    H3[ii] = H[3 + ii * time_seq:4 + ii*time_seq,:,:]\n",
    "    H4[ii] = H[4 + ii * time_seq:5 + ii*time_seq,:,:]\n",
    "    \n",
    "generator = sample_generator(train_batch_size, mod_n, NR)\n",
    "H = H4.repeat_interleave(5, dim=0)\n",
    "print('**************************Starting testing*******************************************')\n",
    "# accs_NN = model_eval(H_test, H_inv, H_tilde, model, snrdb_classical_list[NT][0], snrdb_classical_list[NT][-1], test_batch_size, generator, 'cuda', iterations=150)\n",
    "accs_NN = model_eval(NT, model, snrdb_list[NT][0], snrdb_list[NT][-1], train_batch_size, generator, 'cuda', test_set_flag = True, test_set = H, QR = QR, iterations = 500)\n",
    "results_total.append(accs_NN)\n",
    "accs_NN"
   ]
  },
  {
   "cell_type": "code",
   "execution_count": 21,
   "id": "cf53eedc",
   "metadata": {},
   "outputs": [],
   "source": [
    "with open('/home/nicolas/MIMO_detection_project/results/H_seq_oampnet_time', 'wb') as fp:\n",
    "    pkl.dump(results_total, fp)"
   ]
  },
  {
   "cell_type": "code",
   "execution_count": null,
   "id": "7cd493fd",
   "metadata": {},
   "outputs": [],
   "source": []
  }
 ],
 "metadata": {
  "kernelspec": {
   "display_name": "Python (torchenv)",
   "language": "python",
   "name": "torchenv"
  },
  "language_info": {
   "codemirror_mode": {
    "name": "ipython",
    "version": 3
   },
   "file_extension": ".py",
   "mimetype": "text/x-python",
   "name": "python",
   "nbconvert_exporter": "python",
   "pygments_lexer": "ipython3",
   "version": "3.8.10"
  }
 },
 "nbformat": 4,
 "nbformat_minor": 5
}
